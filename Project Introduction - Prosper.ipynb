{
    "cells": [
        {
            "metadata": {},
            "cell_type": "markdown",
            "source": "## Data Science Capstone Project \n\n### The Battle of the Neighbourhoods (Los Angeles) by [Prosper Nnaeto]"
        },
        {
            "metadata": {},
            "cell_type": "markdown",
            "source": "## <u>Table of contents</u>"
        },
        {
            "metadata": {},
            "cell_type": "markdown",
            "source": "<div class=\"alert alert-block alert-info\" style=\"margin-top: 20px\">\n\n* [Introduction: Business Problem](#introduction)\n* [Data](#data)\n* [Methodology](#methodology)\n* [Analysis](#analysis)\n* [Results and Discussion](#results)\n* [Conclusion](#conclusion)\n"
        },
        {
            "metadata": {},
            "cell_type": "markdown",
            "source": "## <u>Introduction: Business Problem</u><a name=\"introduction\"></a>"
        },
        {
            "metadata": {},
            "cell_type": "markdown",
            "source": "<p style='text-align: justify;'> Los Angeles, often known by its initials LA, is the most populous city in California and the second most populous city in the United States. Los Angeles is the cultural, financial, and commercial center of Southern California. The city is known for its Mediterranean climate, ethnic diversity, Hollywood, the entertainment industry, and its sprawling metropolis. </p>\n\n<p style='text-align: justify;'>Having an amazing places to eat, is the desire of everyone in any country or environment. LA is a place having an incredible variety of international cuisines and some of the most talented chefs in the world. It is a multicultural city, with the biggest communities of several nationalities of people outside of their homelands. They bring their cuisines with them. LA\u2019s thriving economy, great seasonal produce and access to ingredients makes it an ideal place for restaurants to flourish. </p>\n\n<p style='text-align: justify;'>The objective of this project is to identify the best potential neighbourhoods where a Vegan restaurant can be set up. Study has shown  that more than 25,000 people in 24 countries found that pizza and pasta are among the most popular foods in the world, as Italian cuisine beats all comers. For a wellness  in health  it is advised to live on plant based dieth.Keeping this in mind, the focus of this capstone would be Vegan/vegetarian restaurants. Therefore, the analysis and results of this project would interest stakeholders who are interested in **opening Vegan/vegetarian restaurant in Los Angeles**. </p>\n\n<p style='text-align: justify;'>Since there are lots of restaurants in LA, neighbourhoods that are **not already crowded with restaurants** would be shortlisted. The next filter would be neighbourhoods with the **least number of Vegan/vegetarian restaurants in its vicinity**. Neighbourhoods that are **as close to city center as possible** would be preferred. Neighbourhood **rent** is another factor that would be taken into consideration.</p>"
        }
    ],
    "metadata": {
        "kernelspec": {
            "name": "python3",
            "display_name": "Python 3.6",
            "language": "python"
        },
        "language_info": {
            "name": "python",
            "version": "3.6.9",
            "mimetype": "text/x-python",
            "codemirror_mode": {
                "name": "ipython",
                "version": 3
            },
            "pygments_lexer": "ipython3",
            "nbconvert_exporter": "python",
            "file_extension": ".py"
        }
    },
    "nbformat": 4,
    "nbformat_minor": 2
}